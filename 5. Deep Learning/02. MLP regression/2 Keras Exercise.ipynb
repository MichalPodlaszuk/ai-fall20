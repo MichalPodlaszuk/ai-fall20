{
 "cells": [
  {
   "cell_type": "code",
   "execution_count": 1,
   "metadata": {
    "id": "Cin2DCEVm3jM",
    "pycharm": {
     "is_executing": true
    }
   },
   "outputs": [],
   "source": [
    "# Import the libraries\n",
    "\n",
    "import numpy as np\n",
    "from keras.models import Sequential\n",
    "from keras.layers import Dense\n"
   ]
  },
  {
   "cell_type": "markdown",
   "metadata": {
    "id": "uTPybHxmm3jP"
   },
   "source": [
    "The initial building block of Keras is a model, and the simplest model is called `Sequential`. A sequential Keras model is a linear pipeline (a stack) of neural networks layers. This code fragment defines a single layer with 12 artificial neurons, and it expects 8 input features:\n"
   ]
  },
  {
   "cell_type": "code",
   "execution_count": 2,
   "metadata": {
    "id": "O035kbH-m3jQ",
    "pycharm": {
     "is_executing": true
    }
   },
   "outputs": [],
   "source": [
    "# Create a Single Layer Perceptron in Keras\n",
    "model = Sequential()\n",
    "model.add(Dense(12, input_dim=8, kernel_initializer='random_uniform'))\n",
    "\n"
   ]
  },
  {
   "cell_type": "markdown",
   "metadata": {
    "id": "9e3YdgxFm3jQ"
   },
   "source": [
    "Each neuron can be initialized with specific weights. The most common choices provided by Keras:\n",
    "\n",
    "- `random_uniform`: Weights are initialized to uniformly random small values in (-0.05, 0.05). In other words, any value within the given interval is equally likely to be drawn.\n",
    "- `random_normal`: Weights are initialized according to a Gaussian, with a zero mean and small standard deviation of 0.05. For those of you who are not familiar with a Gaussian, think about a symmetric bell curve shape.\n",
    "- `zero`: All weights are initialized to zero.\n",
    "\n",
    "[Here](https://keras.io/initializations/) for the full list https://keras.io/initializations/ ."
   ]
  },
  {
   "cell_type": "markdown",
   "metadata": {
    "id": "xoyuPYDmm3jQ"
   },
   "source": [
    "## Exercise 1\n",
    "\n",
    "Define a Single Layer Perceptron in Keras with 10 as dimension of the input and 8 neurons, with only zeros as initial weights."
   ]
  },
  {
   "cell_type": "code",
   "execution_count": 3,
   "metadata": {
    "id": "chiw3MsEm3jR",
    "pycharm": {
     "is_executing": true
    }
   },
   "outputs": [],
   "source": [
    "# Your code here\n",
    "model = Sequential()\n",
    "model.add(Dense(8, input_dim=10, kernel_initializer='zero'))"
   ]
  },
  {
   "cell_type": "markdown",
   "metadata": {
    "id": "KG9TSntYm3jS"
   },
   "source": [
    "To make your model to output either 0 or 1, you have to add a line to your model:\n",
    "\n",
    "`model.add(Dense(1, activation='sigmoid'))`\n",
    "\n",
    "The output will be consider a neuron itself with the `sigmoid` as activation function.\n",
    "\n",
    "## Exercise 1.1\n",
    "\n",
    "Rewrite the Single Layer Perceptron defined in Exercise 1 so that it has the output layer.\n"
   ]
  },
  {
   "cell_type": "code",
   "execution_count": 6,
   "metadata": {
    "id": "FwTu4U7Nm3jS",
    "pycharm": {
     "is_executing": true
    }
   },
   "outputs": [],
   "source": [
    "# Your code here\n",
    "model = Sequential()\n",
    "model.add(Dense(8, input_dim=10, kernel_initializer='zero'))\n",
    "model.add(Dense(1, activation='sigmoid', name='output'))"
   ]
  },
  {
   "cell_type": "markdown",
   "metadata": {
    "id": "Z4hBaGg7m3jT"
   },
   "source": [
    "As always, to test your model, you need some data. However, meanwhile you can see if your model has been built correctly inspecting it with `model.summary()`."
   ]
  },
  {
   "cell_type": "code",
   "execution_count": 7,
   "metadata": {
    "colab": {
     "base_uri": "https://localhost:8080/"
    },
    "id": "qrbV_c6am3jU",
    "outputId": "4bb8bfba-2aa8-454d-b0a9-7dee1826a55c",
    "pycharm": {
     "is_executing": true
    }
   },
   "outputs": [
    {
     "name": "stdout",
     "output_type": "stream",
     "text": [
      "Model: \"sequential_3\"\n",
      "_________________________________________________________________\n",
      "Layer (type)                 Output Shape              Param #   \n",
      "=================================================================\n",
      "dense_4 (Dense)              (None, 8)                 88        \n",
      "_________________________________________________________________\n",
      "output (Dense)               (None, 1)                 9         \n",
      "=================================================================\n",
      "Total params: 97\n",
      "Trainable params: 97\n",
      "Non-trainable params: 0\n",
      "_________________________________________________________________\n"
     ]
    }
   ],
   "source": [
    "# Run this cell, the output should be as the one you see\n",
    "model.summary()"
   ]
  },
  {
   "cell_type": "markdown",
   "metadata": {
    "id": "k0TN9DPgoned"
   },
   "source": [
    "Now that you have successfully build a Keras model you have to *compile* it. This is where you have to define which **loss function** you want to use, which *optimizer* (not for today), and which **metrics** you want to check. \n",
    "\n",
    "Why we need to specify these?\n",
    "- The loss function is the \"error\", defined in a certain way, that your optimizer will try to minimize by updating the weights.\n",
    "- You have already seen the accuracy, precision and recall metrics. They are used for understanding when to stop the training and to review the training process, but they are not used by the optimizer.\n",
    "\n",
    "You can find some of the loss functions available in Keras here: https://keras.io/api/losses/\n",
    "\n",
    "Since the activation function used in the last layer is a sigmoid, it means that we are building a binary classifier, so we could use the:\n",
    "- `BinaryCrossentropy`: Computes the cross-entropy loss between true labels and predicted labels.\n",
    "Use this cross-entropy loss when there are only two label classes (assumed to be 0 and 1). For each example, there should be a single floating-point value per prediction.\n",
    "\n",
    "\n"
   ]
  },
  {
   "cell_type": "code",
   "execution_count": 8,
   "metadata": {
    "id": "Tjjz70EJm3jV",
    "pycharm": {
     "is_executing": true
    }
   },
   "outputs": [],
   "source": [
    "model.compile(loss='binary_crossentropy', metrics=['accuracy'])\n"
   ]
  },
  {
   "cell_type": "markdown",
   "metadata": {
    "id": "aKwpSOvBrWcN"
   },
   "source": [
    "If you didn't get an error, it means that your model has been successsfully compiled! Now it's time to train it! I'll give you a mock dataset to play with your model. But I want your attention here: *how should the input data look like?*\n",
    "\n",
    "Look at the input model: I asked for 10 input dimension and we output either 0 or 1. So we will have arrays of length 10 and binary labels!"
   ]
  },
  {
   "cell_type": "code",
   "execution_count": 9,
   "metadata": {
    "id": "KkqDsMyqruge",
    "pycharm": {
     "is_executing": true
    }
   },
   "outputs": [],
   "source": [
    "X = np.random.rand(1000,10)\n",
    "y = np.random.randint(0,2,size=(1000,))"
   ]
  },
  {
   "cell_type": "markdown",
   "metadata": {
    "id": "zDFZyx8yte8I"
   },
   "source": [
    "Who's your best friend? 👇"
   ]
  },
  {
   "cell_type": "code",
   "execution_count": 10,
   "metadata": {
    "id": "n-1SdYmctQ4-",
    "pycharm": {
     "is_executing": true
    }
   },
   "outputs": [],
   "source": [
    "from sklearn.model_selection import train_test_split\n",
    "\n",
    "X_train, X_test, y_train, y_test = train_test_split(X, y, test_size=0.33, random_state=42)"
   ]
  },
  {
   "cell_type": "markdown",
   "metadata": {
    "id": "Z7d7JRFft5Vb"
   },
   "source": [
    "Now... Get **fit**, stay (mentally) healthy (since you don't have to code this from scratch anymore)!\n",
    "\n",
    "The `fit` method is for actually training your model. So you have to define the number of `epochs` and the `batch_size`:\n",
    "\n",
    "- `epochs`: This is the number of times the model is exposed to the training set. At each iteration, the optimizer tries to adjust the weights so that the objective function is minimized.\n",
    "\n",
    "- `batch_size`: This is the number of training instances observed before the optimizer performs a weight update.\n",
    "\n",
    "\n",
    "Let's set the batch size to be 10 and the epochs 20! \n",
    "\n",
    "The cool thing is that you can even give a percentage of the training set as validation directly in the fit!!! This means that it will automatically test the error on the validation and gives you both the training accuracy and the validation accuracy!"
   ]
  },
  {
   "cell_type": "code",
   "execution_count": 11,
   "metadata": {
    "id": "IVYA7GuAvHUs",
    "pycharm": {
     "is_executing": true
    }
   },
   "outputs": [],
   "source": [
    "EPOCHS = 20\n",
    "BATCH_SIZE = 10"
   ]
  },
  {
   "cell_type": "code",
   "execution_count": 12,
   "metadata": {
    "colab": {
     "base_uri": "https://localhost:8080/"
    },
    "id": "vNndDV16vO1R",
    "outputId": "26b96181-7aeb-4421-eb8b-585f63389711",
    "pycharm": {
     "is_executing": true
    }
   },
   "outputs": [
    {
     "name": "stdout",
     "output_type": "stream",
     "text": [
      "Epoch 1/20\n",
      "54/54 [==============================] - 1s 11ms/step - loss: 0.6917 - accuracy: 0.5605 - val_loss: 0.6946 - val_accuracy: 0.4851\n",
      "Epoch 2/20\n",
      "54/54 [==============================] - 0s 3ms/step - loss: 0.6928 - accuracy: 0.5115 - val_loss: 0.6969 - val_accuracy: 0.4851\n",
      "Epoch 3/20\n",
      "54/54 [==============================] - 0s 2ms/step - loss: 0.6875 - accuracy: 0.5469 - val_loss: 0.6947 - val_accuracy: 0.4851\n",
      "Epoch 4/20\n",
      "54/54 [==============================] - 0s 2ms/step - loss: 0.6875 - accuracy: 0.5569 - val_loss: 0.6945 - val_accuracy: 0.4851\n",
      "Epoch 5/20\n",
      "54/54 [==============================] - 0s 2ms/step - loss: 0.6896 - accuracy: 0.5382 - val_loss: 0.6957 - val_accuracy: 0.4851\n",
      "Epoch 6/20\n",
      "54/54 [==============================] - 0s 2ms/step - loss: 0.6870 - accuracy: 0.5422 - val_loss: 0.6941 - val_accuracy: 0.4851\n",
      "Epoch 7/20\n",
      "54/54 [==============================] - 0s 2ms/step - loss: 0.6815 - accuracy: 0.5743 - val_loss: 0.6922 - val_accuracy: 0.5075\n",
      "Epoch 8/20\n",
      "54/54 [==============================] - 0s 2ms/step - loss: 0.6890 - accuracy: 0.5379 - val_loss: 0.6939 - val_accuracy: 0.4925\n",
      "Epoch 9/20\n",
      "54/54 [==============================] - 0s 2ms/step - loss: 0.6892 - accuracy: 0.5348 - val_loss: 0.6962 - val_accuracy: 0.4925\n",
      "Epoch 10/20\n",
      "54/54 [==============================] - 0s 2ms/step - loss: 0.6884 - accuracy: 0.5412 - val_loss: 0.6937 - val_accuracy: 0.5000\n",
      "Epoch 11/20\n",
      "54/54 [==============================] - 0s 2ms/step - loss: 0.6928 - accuracy: 0.5408 - val_loss: 0.6947 - val_accuracy: 0.4925\n",
      "Epoch 12/20\n",
      "54/54 [==============================] - 0s 2ms/step - loss: 0.6918 - accuracy: 0.5230 - val_loss: 0.6928 - val_accuracy: 0.5224\n",
      "Epoch 13/20\n",
      "54/54 [==============================] - 0s 3ms/step - loss: 0.6882 - accuracy: 0.5233 - val_loss: 0.6974 - val_accuracy: 0.4925\n",
      "Epoch 14/20\n",
      "54/54 [==============================] - 0s 3ms/step - loss: 0.6860 - accuracy: 0.5623 - val_loss: 0.6952 - val_accuracy: 0.5224\n",
      "Epoch 15/20\n",
      "54/54 [==============================] - 0s 2ms/step - loss: 0.6837 - accuracy: 0.5549 - val_loss: 0.6931 - val_accuracy: 0.5149\n",
      "Epoch 16/20\n",
      "54/54 [==============================] - 0s 5ms/step - loss: 0.6802 - accuracy: 0.5724 - val_loss: 0.6903 - val_accuracy: 0.4851\n",
      "Epoch 17/20\n",
      "54/54 [==============================] - 0s 2ms/step - loss: 0.6867 - accuracy: 0.5545 - val_loss: 0.6922 - val_accuracy: 0.5299\n",
      "Epoch 18/20\n",
      "54/54 [==============================] - 0s 2ms/step - loss: 0.6840 - accuracy: 0.5500 - val_loss: 0.6932 - val_accuracy: 0.5299\n",
      "Epoch 19/20\n",
      "54/54 [==============================] - 0s 2ms/step - loss: 0.6869 - accuracy: 0.5454 - val_loss: 0.6901 - val_accuracy: 0.5000\n",
      "Epoch 20/20\n",
      "54/54 [==============================] - 0s 2ms/step - loss: 0.6840 - accuracy: 0.5464 - val_loss: 0.6909 - val_accuracy: 0.4851\n"
     ]
    }
   ],
   "source": [
    "history = model.fit(X_train, y_train,\n",
    "batch_size=BATCH_SIZE, epochs=EPOCHS,\n",
    "verbose=1, validation_split=0.2)"
   ]
  },
  {
   "cell_type": "markdown",
   "metadata": {
    "id": "rc0NAuNHwHKP"
   },
   "source": [
    "Now let's test on the test data:"
   ]
  },
  {
   "cell_type": "code",
   "execution_count": 13,
   "metadata": {
    "colab": {
     "base_uri": "https://localhost:8080/"
    },
    "id": "a0zLbMzTvz7u",
    "outputId": "ee5c0bc6-dc67-4d94-d704-97c612f57874",
    "pycharm": {
     "is_executing": true
    }
   },
   "outputs": [
    {
     "name": "stdout",
     "output_type": "stream",
     "text": [
      "11/11 [==============================] - 0s 1ms/step - loss: 0.6952 - accuracy: 0.5394\n",
      "loss: 0.6952477097511292\n",
      "accuracy 0.539393961429596\n"
     ]
    }
   ],
   "source": [
    "score = model.evaluate(X_test, y_test, verbose=1)\n",
    "print(f\"{model.metrics_names[0]}:\", score[0])\n",
    "print(f\"{model.metrics_names[1]}\", score[1])"
   ]
  },
  {
   "cell_type": "markdown",
   "metadata": {
    "id": "DJnYfaN5wZ9t"
   },
   "source": [
    "The performance is super low because we gave random data! But you can try on real data!\n",
    "\n",
    "If you want to manually inspect the values of the prediction you can use the `predict` method:\n"
   ]
  },
  {
   "cell_type": "code",
   "execution_count": 14,
   "metadata": {
    "colab": {
     "base_uri": "https://localhost:8080/"
    },
    "id": "TRITfUXgy_xJ",
    "outputId": "d2a99502-f60a-4cf8-8558-b7cae75dd368",
    "pycharm": {
     "is_executing": true
    }
   },
   "outputs": [
    {
     "data": {
      "text/plain": [
       "array([[0.42826912]], dtype=float32)"
      ]
     },
     "execution_count": 14,
     "metadata": {
      "tags": []
     },
     "output_type": "execute_result"
    }
   ],
   "source": [
    "np.random.seed(42)\n",
    "pred = model.predict(np.random.rand(1,10))\n",
    "pred"
   ]
  },
  {
   "cell_type": "markdown",
   "metadata": {
    "id": "O5GGvRbYzVU8"
   },
   "source": [
    "As you can see, the output is a \"double\" array. So if you want to get the number inside it you could access it adding `[0][0]`:"
   ]
  },
  {
   "cell_type": "code",
   "execution_count": 15,
   "metadata": {
    "colab": {
     "base_uri": "https://localhost:8080/"
    },
    "id": "npoBW9UuzgUk",
    "outputId": "05050455-1be3-461c-f5ab-d84b8220fc42",
    "pycharm": {
     "is_executing": true
    }
   },
   "outputs": [
    {
     "data": {
      "text/plain": [
       "0.42826912"
      ]
     },
     "execution_count": 15,
     "metadata": {
      "tags": []
     },
     "output_type": "execute_result"
    }
   ],
   "source": [
    "pred[0][0]"
   ]
  },
  {
   "cell_type": "markdown",
   "metadata": {
    "id": "hwGpgvzx0DOp"
   },
   "source": [
    "But this is the a float! You want 0 or 1! True, you could round the prediction if you want, with threshold 0.5. Or use the predict_classes method:"
   ]
  },
  {
   "cell_type": "code",
   "execution_count": 16,
   "metadata": {
    "colab": {
     "base_uri": "https://localhost:8080/"
    },
    "id": "-WqSfPBgz6sW",
    "outputId": "adc394ad-711b-4774-bf9e-2366eddaa325",
    "pycharm": {
     "is_executing": true
    }
   },
   "outputs": [
    {
     "name": "stderr",
     "output_type": "stream",
     "text": [
      "/usr/local/lib/python3.6/dist-packages/tensorflow/python/keras/engine/sequential.py:450: UserWarning: `model.predict_classes()` is deprecated and will be removed after 2021-01-01. Please use instead:* `np.argmax(model.predict(x), axis=-1)`,   if your model does multi-class classification   (e.g. if it uses a `softmax` last-layer activation).* `(model.predict(x) > 0.5).astype(\"int32\")`,   if your model does binary classification   (e.g. if it uses a `sigmoid` last-layer activation).\n",
      "  warnings.warn('`model.predict_classes()` is deprecated and '\n"
     ]
    },
    {
     "data": {
      "text/plain": [
       "array([[0]], dtype=int32)"
      ]
     },
     "execution_count": 16,
     "metadata": {
      "tags": []
     },
     "output_type": "execute_result"
    }
   ],
   "source": [
    "np.random.seed(42)\n",
    "\n",
    "pred_classes = model.predict_classes(np.random.rand(1,10))\n",
    "pred_classes"
   ]
  },
  {
   "cell_type": "markdown",
   "metadata": {
    "id": "oL6Gvqvvm3jV"
   },
   "source": [
    "Since the `predict_classes` method is deprecated, it's not convenient to use it for a maintainable code. So better to check the class manually using a threshold!"
   ]
  },
  {
   "cell_type": "markdown",
   "metadata": {
    "id": "aPS8OFe21NVE"
   },
   "source": [
    "# BIGGER NETWORKS\n",
    "\n",
    "You can add as many layers you(r RAM) want(s) in your neural network! Before we used only one! It's as simple as adding \n",
    "\n",
    "`model.add(Dense(N_HIDDEN))`\n",
    "\n",
    "between the the layers!"
   ]
  },
  {
   "cell_type": "code",
   "execution_count": 17,
   "metadata": {
    "id": "lUr6kXjf1LXt",
    "pycharm": {
     "is_executing": true
    }
   },
   "outputs": [],
   "source": [
    "model = Sequential()\n",
    "model.add(Dense(12, input_dim=8, kernel_initializer='random_uniform'))\n",
    "model.add(Dense(100))\n",
    "model.add(Dense(1, activation='sigmoid'))\n",
    "\n"
   ]
  },
  {
   "cell_type": "code",
   "execution_count": 18,
   "metadata": {
    "colab": {
     "base_uri": "https://localhost:8080/"
    },
    "id": "oSliT7qD2aJ9",
    "outputId": "fb4d83f0-a5e9-4b04-fe58-cbc87797f13f",
    "pycharm": {
     "is_executing": true
    }
   },
   "outputs": [
    {
     "name": "stdout",
     "output_type": "stream",
     "text": [
      "Model: \"sequential_4\"\n",
      "_________________________________________________________________\n",
      "Layer (type)                 Output Shape              Param #   \n",
      "=================================================================\n",
      "dense_5 (Dense)              (None, 12)                108       \n",
      "_________________________________________________________________\n",
      "dense_6 (Dense)              (None, 100)               1300      \n",
      "_________________________________________________________________\n",
      "dense_7 (Dense)              (None, 1)                 101       \n",
      "=================================================================\n",
      "Total params: 1,509\n",
      "Trainable params: 1,509\n",
      "Non-trainable params: 0\n",
      "_________________________________________________________________\n"
     ]
    }
   ],
   "source": [
    "model.summary()"
   ]
  },
  {
   "cell_type": "markdown",
   "metadata": {
    "id": "3yuEn4pQ2kNo"
   },
   "source": [
    "The rest, is exactly the same of before!\n",
    "\n",
    "## Now it's your turn!\n",
    "\n",
    "I'll give you some input data, and I want you to create a neural network with:\n",
    "\n",
    "- `input_dim` : adeguate to fit the data I will provide you\n",
    "- 32 neurons in the input layer\n",
    "- 64 neurons in the first hidden layer\n",
    "- 32 neuron in the second hidden layer\n",
    "- a binary output layer with the sigmoid\n",
    "\n",
    "You're free to choose the rest of the parameters!"
   ]
  },
  {
   "cell_type": "code",
   "execution_count": 19,
   "metadata": {
    "id": "f7YzNg0r3P6z",
    "pycharm": {
     "is_executing": true
    }
   },
   "outputs": [],
   "source": [
    "np.random.seed(42)\n",
    "X = np.random.rand(1000, 20)\n",
    "y = np.random.randint(0, 2, size=1000)"
   ]
  },
  {
   "cell_type": "code",
   "execution_count": 25,
   "metadata": {
    "id": "vENjpH2e3M_N",
    "pycharm": {
     "is_executing": true
    }
   },
   "outputs": [],
   "source": [
    "# Your code here\n",
    "X_train, X_test, y_train, y_test = train_test_split(X, y, test_size = 0.33, random_state=42)\n",
    "model = Sequential()\n",
    "model.add(Dense(32, input_dim=20, kernel_initializer='zero'))\n",
    "model.add(Dense(64))\n",
    "model.add(Dense(32))\n",
    "model.add(Dense(1, activation='sigmoid'))"
   ]
  },
  {
   "cell_type": "code",
   "execution_count": 29,
   "metadata": {
    "id": "QKvHjTh43tPr",
    "pycharm": {
     "is_executing": true
    }
   },
   "outputs": [],
   "source": [
    "model.compile(loss='binary_crossentropy', metrics=['accuracy'])"
   ]
  },
  {
   "cell_type": "code",
   "execution_count": 30,
   "metadata": {
    "colab": {
     "base_uri": "https://localhost:8080/"
    },
    "id": "Uky7XUuMOB1f",
    "outputId": "d864edf2-38a2-45fa-a47f-bed80a2abd73"
   },
   "outputs": [
    {
     "name": "stdout",
     "output_type": "stream",
     "text": [
      "Model: \"sequential_6\"\n",
      "_________________________________________________________________\n",
      "Layer (type)                 Output Shape              Param #   \n",
      "=================================================================\n",
      "dense_12 (Dense)             (None, 32)                672       \n",
      "_________________________________________________________________\n",
      "dense_13 (Dense)             (None, 64)                2112      \n",
      "_________________________________________________________________\n",
      "dense_14 (Dense)             (None, 32)                2080      \n",
      "_________________________________________________________________\n",
      "dense_15 (Dense)             (None, 1)                 33        \n",
      "=================================================================\n",
      "Total params: 4,897\n",
      "Trainable params: 4,897\n",
      "Non-trainable params: 0\n",
      "_________________________________________________________________\n"
     ]
    }
   ],
   "source": [
    "model.summary()"
   ]
  },
  {
   "cell_type": "code",
   "execution_count": 31,
   "metadata": {
    "colab": {
     "base_uri": "https://localhost:8080/"
    },
    "id": "zcNFMNN8NRdo",
    "outputId": "64e91da7-e653-4f61-a807-f4dfe615ce0c"
   },
   "outputs": [
    {
     "name": "stdout",
     "output_type": "stream",
     "text": [
      "Epoch 1/20\n",
      "54/54 [==============================] - 1s 5ms/step - loss: 0.7006 - accuracy: 0.4497 - val_loss: 0.6970 - val_accuracy: 0.5149\n",
      "Epoch 2/20\n",
      "54/54 [==============================] - 0s 2ms/step - loss: 0.6877 - accuracy: 0.5569 - val_loss: 0.6935 - val_accuracy: 0.5448\n",
      "Epoch 3/20\n",
      "54/54 [==============================] - 0s 2ms/step - loss: 0.6948 - accuracy: 0.5072 - val_loss: 0.6963 - val_accuracy: 0.5149\n",
      "Epoch 4/20\n",
      "54/54 [==============================] - 0s 3ms/step - loss: 0.6904 - accuracy: 0.5300 - val_loss: 0.6926 - val_accuracy: 0.5224\n",
      "Epoch 5/20\n",
      "54/54 [==============================] - 0s 3ms/step - loss: 0.6884 - accuracy: 0.5638 - val_loss: 0.6930 - val_accuracy: 0.5149\n",
      "Epoch 6/20\n",
      "54/54 [==============================] - 0s 2ms/step - loss: 0.6848 - accuracy: 0.5461 - val_loss: 0.6931 - val_accuracy: 0.4627\n",
      "Epoch 7/20\n",
      "54/54 [==============================] - 0s 2ms/step - loss: 0.6844 - accuracy: 0.5684 - val_loss: 0.6965 - val_accuracy: 0.4478\n",
      "Epoch 8/20\n",
      "54/54 [==============================] - 0s 2ms/step - loss: 0.6882 - accuracy: 0.5370 - val_loss: 0.6971 - val_accuracy: 0.4701\n",
      "Epoch 9/20\n",
      "54/54 [==============================] - 0s 3ms/step - loss: 0.6723 - accuracy: 0.5811 - val_loss: 0.6993 - val_accuracy: 0.4627\n",
      "Epoch 10/20\n",
      "54/54 [==============================] - 0s 3ms/step - loss: 0.6839 - accuracy: 0.5152 - val_loss: 0.6969 - val_accuracy: 0.4701\n",
      "Epoch 11/20\n",
      "54/54 [==============================] - 0s 3ms/step - loss: 0.6829 - accuracy: 0.5626 - val_loss: 0.6961 - val_accuracy: 0.4627\n",
      "Epoch 12/20\n",
      "54/54 [==============================] - 0s 2ms/step - loss: 0.6867 - accuracy: 0.5648 - val_loss: 0.6978 - val_accuracy: 0.4701\n",
      "Epoch 13/20\n",
      "54/54 [==============================] - 0s 2ms/step - loss: 0.6846 - accuracy: 0.5628 - val_loss: 0.7003 - val_accuracy: 0.4776\n",
      "Epoch 14/20\n",
      "54/54 [==============================] - 0s 2ms/step - loss: 0.6851 - accuracy: 0.5649 - val_loss: 0.6955 - val_accuracy: 0.4552\n",
      "Epoch 15/20\n",
      "54/54 [==============================] - 0s 2ms/step - loss: 0.6884 - accuracy: 0.5314 - val_loss: 0.7581 - val_accuracy: 0.5224\n",
      "Epoch 16/20\n",
      "54/54 [==============================] - 0s 2ms/step - loss: 0.6958 - accuracy: 0.5516 - val_loss: 0.7013 - val_accuracy: 0.4776\n",
      "Epoch 17/20\n",
      "54/54 [==============================] - 0s 5ms/step - loss: 0.6806 - accuracy: 0.5551 - val_loss: 0.6958 - val_accuracy: 0.4776\n",
      "Epoch 18/20\n",
      "54/54 [==============================] - 0s 2ms/step - loss: 0.6759 - accuracy: 0.5573 - val_loss: 0.6956 - val_accuracy: 0.4701\n",
      "Epoch 19/20\n",
      "54/54 [==============================] - 0s 2ms/step - loss: 0.6736 - accuracy: 0.5756 - val_loss: 0.6968 - val_accuracy: 0.4701\n",
      "Epoch 20/20\n",
      "54/54 [==============================] - 0s 2ms/step - loss: 0.6788 - accuracy: 0.5619 - val_loss: 0.6960 - val_accuracy: 0.4701\n"
     ]
    },
    {
     "data": {
      "text/plain": [
       "<tensorflow.python.keras.callbacks.History at 0x7f7f675de8d0>"
      ]
     },
     "execution_count": 31,
     "metadata": {
      "tags": []
     },
     "output_type": "execute_result"
    }
   ],
   "source": [
    "model.fit(X_train, y_train, batch_size=10, epochs=20, verbose=1, validation_split=0.2)"
   ]
  },
  {
   "cell_type": "code",
   "execution_count": 35,
   "metadata": {
    "colab": {
     "base_uri": "https://localhost:8080/"
    },
    "id": "OZPuiLrZOgx_",
    "outputId": "aa2d8c9e-8af5-4a6b-8087-0f65e8fece2c"
   },
   "outputs": [
    {
     "name": "stdout",
     "output_type": "stream",
     "text": [
      "11/11 [==============================] - 0s 1ms/step - loss: 0.6958 - accuracy: 0.5333\n"
     ]
    },
    {
     "data": {
      "text/plain": [
       "[0.695814311504364, 0.5333333611488342]"
      ]
     },
     "execution_count": 35,
     "metadata": {
      "tags": []
     },
     "output_type": "execute_result"
    }
   ],
   "source": [
    "model.evaluate(X_test, y_test)"
   ]
  }
 ],
 "metadata": {
  "colab": {
   "collapsed_sections": [],
   "name": "2 Keras Exercise.ipynb",
   "provenance": []
  },
  "kernelspec": {
   "display_name": "Python 3",
   "language": "python",
   "name": "python3"
  },
  "language_info": {
   "codemirror_mode": {
    "name": "ipython",
    "version": 3
   },
   "file_extension": ".py",
   "mimetype": "text/x-python",
   "name": "python",
   "nbconvert_exporter": "python",
   "pygments_lexer": "ipython3",
   "version": "3.8.8"
  }
 },
 "nbformat": 4,
 "nbformat_minor": 1
}
