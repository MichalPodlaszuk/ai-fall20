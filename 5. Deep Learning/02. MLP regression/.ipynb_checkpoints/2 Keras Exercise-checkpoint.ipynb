{
 "cells": [
  {
   "cell_type": "code",
   "execution_count": null,
   "metadata": {
    "id": "Cin2DCEVm3jM",
    "pycharm": {
     "is_executing": true
    }
   },
   "outputs": [],
   "source": [
    "# Import the libraries\n",
    "\n",
    "import numpy as np\n",
    "from keras.models import Sequential\n",
    "from keras.layers import Dense\n"
   ]
  },
  {
   "cell_type": "markdown",
   "metadata": {
    "id": "uTPybHxmm3jP"
   },
   "source": [
    "The initial building block of Keras is a model, and the simplest model is called `Sequential`. A sequential Keras model is a linear pipeline (a stack) of neural networks layers. This code fragment defines a single layer with 12 artificial neurons, and it expects 8 input features:\n"
   ]
  },
  {
   "cell_type": "code",
   "execution_count": null,
   "metadata": {
    "id": "O035kbH-m3jQ",
    "pycharm": {
     "is_executing": true
    }
   },
   "outputs": [],
   "source": [
    "# Create a Single Layer Perceptron in Keras\n",
    "model = Sequential()\n",
    "model.add(Dense(12, input_dim=8, kernel_initializer='random_uniform'))\n",
    "\n"
   ]
  },
  {
   "cell_type": "markdown",
   "metadata": {
    "id": "9e3YdgxFm3jQ"
   },
   "source": [
    "Each neuron can be initialized with specific weights. The most common choices provided by Keras:\n",
    "\n",
    "- `random_uniform`: Weights are initialized to uniformly random small values in (-0.05, 0.05). In other words, any value within the given interval is equally likely to be drawn.\n",
    "- `random_normal`: Weights are initialized according to a Gaussian, with a zero mean and small standard deviation of 0.05. For those of you who are not familiar with a Gaussian, think about a symmetric bell curve shape.\n",
    "- `zero`: All weights are initialized to zero.\n",
    "\n",
    "[Here](https://keras.io/initializations/) for the full list https://keras.io/initializations/ ."
   ]
  },
  {
   "cell_type": "markdown",
   "metadata": {
    "id": "xoyuPYDmm3jQ"
   },
   "source": [
    "## Exercise 1\n",
    "\n",
    "Define a Single Layer Perceptron in Keras with 10 as dimension of the input and 8 neurons, with only zeros as initial weights."
   ]
  },
  {
   "cell_type": "code",
   "execution_count": null,
   "metadata": {
    "id": "chiw3MsEm3jR",
    "pycharm": {
     "is_executing": true
    }
   },
   "outputs": [],
   "source": [
    "# Your code here\n",
    "model = Sequential()\n",
    "model.add(Dense(8, input_dim=10, kernel_initializer='zero'))"
   ]
  },
  {
   "cell_type": "markdown",
   "metadata": {
    "id": "KG9TSntYm3jS"
   },
   "source": [
    "To make your model to output either 0 or 1, you have to add a line to your model:\n",
    "\n",
    "`model.add(Dense(1, activation='sigmoid'))`\n",
    "\n",
    "The output will be consider a neuron itself with the `sigmoid` as activation function.\n",
    "\n",
    "## Exercise 1.1\n",
    "\n",
    "Rewrite the Single Layer Perceptron defined in Exercise 1 so that it has the output layer.\n"
   ]
  },
  {
   "cell_type": "code",
   "execution_count": null,
   "metadata": {
    "id": "FwTu4U7Nm3jS",
    "pycharm": {
     "is_executing": true
    }
   },
   "outputs": [],
   "source": [
    "# Your code here\n",
    "model = Sequential()\n",
    "model.add(Dense(8, input_dim=10, kernel_initializer='zero'))\n",
    "model.add(Dense(1, activation='sigmoid'))"
   ]
  },
  {
   "cell_type": "markdown",
   "metadata": {
    "id": "Z4hBaGg7m3jT"
   },
   "source": [
    "As always, to test your model, you need some data. However, meanwhile you can see if your model has been built correctly inspecting it with `model.summary()`."
   ]
  },
  {
   "cell_type": "code",
   "execution_count": null,
   "metadata": {
    "colab": {
     "base_uri": "https://localhost:8080/"
    },
    "id": "qrbV_c6am3jU",
    "outputId": "11056cbc-e90a-47a5-c6aa-25009afda001",
    "pycharm": {
     "is_executing": true
    }
   },
   "outputs": [],
   "source": [
    "# Run this cell, the output should be as the one you see\n",
    "model.summary()"
   ]
  },
  {
   "cell_type": "markdown",
   "metadata": {
    "id": "k0TN9DPgoned"
   },
   "source": [
    "Now that you have successfully build a Keras model you have to *compile* it. This is where you have to define which **loss function** you want to use, which *optimizer* (not for today), and which **metrics** you want to check. \n",
    "\n",
    "Why we need to specify these?\n",
    "- The loss function is the \"error\", defined in a certain way, that your optimizer will try to minimize by updating the weights.\n",
    "- You have already seen the accuracy, precision and recall metrics. They are used for understanding when to stop the training and to review the training process, but they are not used by the optimizer.\n",
    "\n",
    "You can find some of the loss functions available in Keras here: https://keras.io/api/losses/\n",
    "\n",
    "Since the activation function used in the last layer is a sigmoid, it means that we are building a binary classifier, so we could use the:\n",
    "- `BinaryCrossentropy`: Computes the cross-entropy loss between true labels and predicted labels.\n",
    "Use this cross-entropy loss when there are only two label classes (assumed to be 0 and 1). For each example, there should be a single floating-point value per prediction.\n",
    "\n",
    "\n"
   ]
  },
  {
   "cell_type": "code",
   "execution_count": null,
   "metadata": {
    "id": "Tjjz70EJm3jV",
    "pycharm": {
     "is_executing": true
    }
   },
   "outputs": [],
   "source": [
    "model.compile(loss='binary_crossentropy', metrics=['accuracy'])\n"
   ]
  },
  {
   "cell_type": "markdown",
   "metadata": {
    "id": "aKwpSOvBrWcN"
   },
   "source": [
    "If you didn't get an error, it means that your model has been successsfully compiled! Now it's time to train it! I'll give you a mock dataset to play with your model. But I want your attention here: *how should the input data look like?*\n",
    "\n",
    "Look at the input model: I asked for 10 input dimension and we output either 0 or 1. So we will have arrays of length 10 and binary labels!"
   ]
  },
  {
   "cell_type": "code",
   "execution_count": null,
   "metadata": {
    "id": "KkqDsMyqruge",
    "pycharm": {
     "is_executing": true
    }
   },
   "outputs": [],
   "source": [
    "X = np.random.rand(1000,10)\n",
    "y = np.random.randint(0,2,size=(1000,))"
   ]
  },
  {
   "cell_type": "markdown",
   "metadata": {
    "id": "zDFZyx8yte8I"
   },
   "source": [
    "Who's your best friend? 👇"
   ]
  },
  {
   "cell_type": "code",
   "execution_count": null,
   "metadata": {
    "id": "n-1SdYmctQ4-",
    "pycharm": {
     "is_executing": true
    }
   },
   "outputs": [],
   "source": [
    "from sklearn.model_selection import train_test_split\n",
    "\n",
    "X_train, X_test, y_train, y_test = train_test_split(X, y, test_size=0.33, random_state=42)"
   ]
  },
  {
   "cell_type": "markdown",
   "metadata": {
    "id": "Z7d7JRFft5Vb"
   },
   "source": [
    "Now... Get **fit**, stay (mentally) healthy (since you don't have to code this from scratch anymore)!\n",
    "\n",
    "The `fit` method is for actually training your model. So you have to define the number of `epochs` and the `batch_size`:\n",
    "\n",
    "- `epochs`: This is the number of times the model is exposed to the training set. At each iteration, the optimizer tries to adjust the weights so that the objective function is minimized.\n",
    "\n",
    "- `batch_size`: This is the number of training instances observed before the optimizer performs a weight update.\n",
    "\n",
    "\n",
    "Let's set the batch size to be 10 and the epochs 20! \n",
    "\n",
    "The cool thing is that you can even give a percentage of the training set as validation directly in the fit!!! This means that it will automatically test the error on the validation and gives you both the training accuracy and the validation accuracy!"
   ]
  },
  {
   "cell_type": "code",
   "execution_count": null,
   "metadata": {
    "id": "IVYA7GuAvHUs",
    "pycharm": {
     "is_executing": true
    }
   },
   "outputs": [],
   "source": [
    "EPOCHS = 20\n",
    "BATCH_SIZE = 10"
   ]
  },
  {
   "cell_type": "code",
   "execution_count": null,
   "metadata": {
    "colab": {
     "base_uri": "https://localhost:8080/"
    },
    "id": "vNndDV16vO1R",
    "outputId": "a21a73a9-daad-488d-8a23-a86159138493",
    "pycharm": {
     "is_executing": true
    }
   },
   "outputs": [],
   "source": [
    "history = model.fit(X_train, y_train,\n",
    "batch_size=BATCH_SIZE, epochs=EPOCHS,\n",
    "verbose=1, validation_split=0.2)"
   ]
  },
  {
   "cell_type": "markdown",
   "metadata": {
    "id": "rc0NAuNHwHKP"
   },
   "source": [
    "Now let's test on the test data:"
   ]
  },
  {
   "cell_type": "code",
   "execution_count": null,
   "metadata": {
    "colab": {
     "base_uri": "https://localhost:8080/"
    },
    "id": "a0zLbMzTvz7u",
    "outputId": "ffe7d7df-f095-4178-9bdf-6181507efb79",
    "pycharm": {
     "is_executing": true
    }
   },
   "outputs": [],
   "source": [
    "score = model.evaluate(X_test, y_test, verbose=1)\n",
    "print(f\"{model.metrics_names[0]}:\", score[0])\n",
    "print(f\"{model.metrics_names[1]}\", score[1])"
   ]
  },
  {
   "cell_type": "markdown",
   "metadata": {
    "id": "DJnYfaN5wZ9t"
   },
   "source": [
    "The performance is super low because we gave random data! But you can try on real data!\n",
    "\n",
    "If you want to manually inspect the values of the prediction you can use the `predict` method:\n"
   ]
  },
  {
   "cell_type": "code",
   "execution_count": null,
   "metadata": {
    "colab": {
     "base_uri": "https://localhost:8080/"
    },
    "id": "TRITfUXgy_xJ",
    "outputId": "72ccd4c9-a0d0-459e-bc75-98a43c659e73",
    "pycharm": {
     "is_executing": true
    }
   },
   "outputs": [],
   "source": [
    "np.random.seed(42)\n",
    "pred = model.predict(np.random.rand(1,10))\n",
    "pred"
   ]
  },
  {
   "cell_type": "markdown",
   "metadata": {
    "id": "O5GGvRbYzVU8"
   },
   "source": [
    "As you can see, the output is a \"double\" array. So if you want to get the number inside it you could access it adding `[0][0]`:"
   ]
  },
  {
   "cell_type": "code",
   "execution_count": null,
   "metadata": {
    "colab": {
     "base_uri": "https://localhost:8080/"
    },
    "id": "npoBW9UuzgUk",
    "outputId": "24a1845f-f269-4daf-afb5-aed0a9c6e413",
    "pycharm": {
     "is_executing": true
    }
   },
   "outputs": [],
   "source": [
    "pred[0][0]"
   ]
  },
  {
   "cell_type": "markdown",
   "metadata": {
    "id": "hwGpgvzx0DOp"
   },
   "source": [
    "But this is the a float! You want 0 or 1! True, you could round the prediction if you want, with threshold 0.5. Or use the predict_classes method:"
   ]
  },
  {
   "cell_type": "code",
   "execution_count": null,
   "metadata": {
    "colab": {
     "base_uri": "https://localhost:8080/"
    },
    "id": "-WqSfPBgz6sW",
    "outputId": "08867881-2dce-41c1-d688-9e876640ce8e",
    "pycharm": {
     "is_executing": true
    }
   },
   "outputs": [],
   "source": [
    "np.random.seed(42)\n",
    "\n",
    "pred_classes = model.predict_classes(np.random.rand(1,10))\n",
    "pred_classes"
   ]
  },
  {
   "cell_type": "markdown",
   "metadata": {
    "id": "oL6Gvqvvm3jV"
   },
   "source": [
    "Since the `predict_classes` method is deprecated, it's not convenient to use it for a maintainable code. So better to check the class manually using a threshold!"
   ]
  },
  {
   "cell_type": "markdown",
   "metadata": {
    "id": "aPS8OFe21NVE"
   },
   "source": [
    "# BIGGER NETWORKS\n",
    "\n",
    "You can add as many layers you(r RAM) want(s) in your neural network! Before we used only one! It's as simple as adding \n",
    "\n",
    "`model.add(Dense(N_HIDDEN))`\n",
    "\n",
    "between the the layers!"
   ]
  },
  {
   "cell_type": "code",
   "execution_count": null,
   "metadata": {
    "id": "lUr6kXjf1LXt",
    "pycharm": {
     "is_executing": true
    }
   },
   "outputs": [],
   "source": [
    "model = Sequential()\n",
    "model.add(Dense(12, input_dim=8, kernel_initializer='random_uniform'))\n",
    "model.add(Dense(100))\n",
    "model.add(Dense(1, activation='sigmoid'))\n",
    "\n"
   ]
  },
  {
   "cell_type": "code",
   "execution_count": null,
   "metadata": {
    "colab": {
     "base_uri": "https://localhost:8080/"
    },
    "id": "oSliT7qD2aJ9",
    "outputId": "534c291d-f026-49a7-80ca-bcc00b1be830",
    "pycharm": {
     "is_executing": true
    }
   },
   "outputs": [],
   "source": [
    "model.summary()"
   ]
  },
  {
   "cell_type": "markdown",
   "metadata": {
    "id": "3yuEn4pQ2kNo"
   },
   "source": [
    "The rest, is exactly the same of before!\n",
    "\n",
    "## Now it's your turn!\n",
    "\n",
    "I'll give you some input data, and I want you to create a neural network with:\n",
    "\n",
    "- `input_dim` : adeguate to fit the data I will provide you\n",
    "- 32 neurons in the input layer\n",
    "- 64 neurons in the first hidden layer\n",
    "- 32 neuron in the second hidden layer\n",
    "- a binary output layer with the sigmoid\n",
    "\n",
    "You're free to choose the rest of the parameters!"
   ]
  },
  {
   "cell_type": "code",
   "execution_count": null,
   "metadata": {
    "id": "f7YzNg0r3P6z",
    "pycharm": {
     "is_executing": true
    }
   },
   "outputs": [],
   "source": [
    "np.random.seed(42)\n",
    "X = np.random.rand(1000, 20)\n",
    "y = np.random.randint(0, 2, size=1000)"
   ]
  },
  {
   "cell_type": "code",
   "execution_count": null,
   "metadata": {
    "colab": {
     "base_uri": "https://localhost:8080/"
    },
    "id": "vENjpH2e3M_N",
    "outputId": "53cc6f28-9d16-4ee2-cf17-4df9d23e1a03",
    "pycharm": {
     "is_executing": true
    }
   },
   "outputs": [],
   "source": [
    "# Your code here\n"
   ]
  },
  {
   "cell_type": "code",
   "execution_count": null,
   "metadata": {
    "id": "QKvHjTh43tPr",
    "pycharm": {
     "is_executing": true
    }
   },
   "outputs": [],
   "source": []
  }
 ],
 "metadata": {
  "colab": {
   "name": "Easy Keras Exercises.ipynb",
   "provenance": []
  },
  "kernelspec": {
   "display_name": "Python 3",
   "language": "python",
   "name": "python3"
  },
  "language_info": {
   "codemirror_mode": {
    "name": "ipython",
    "version": 3
   },
   "file_extension": ".py",
   "mimetype": "text/x-python",
   "name": "python",
   "nbconvert_exporter": "python",
   "pygments_lexer": "ipython3",
   "version": "3.7.9"
  }
 },
 "nbformat": 4,
 "nbformat_minor": 1
}
